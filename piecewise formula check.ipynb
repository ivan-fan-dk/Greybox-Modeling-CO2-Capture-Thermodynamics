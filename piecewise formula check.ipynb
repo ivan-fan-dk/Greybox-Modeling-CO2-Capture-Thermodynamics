{
 "cells": [
  {
   "cell_type": "code",
   "execution_count": 1,
   "id": "8e5f807b",
   "metadata": {},
   "outputs": [],
   "source": [
    "from sympy import *\n",
    "init_printing()\n",
    "\n",
    "# Define symbols\n",
    "T1, T2, S_hat, Pe, xi, z1, z2, z, Pe = symbols('T1 T2 S_hat Pe xi z1 z2 z Pe')\n",
    "\n",
    "# Define C4\n",
    "numerator = T2 - T1 - (S_hat / (Pe**2 * exp(Pe*xi))) * (exp(Pe * xi) - exp(Pe * z1)) + (S_hat / Pe) * (xi - z2)\n",
    "denominator = exp(Pe * z2) - exp(Pe * z1)\n",
    "C4 = numerator / denominator\n",
    "\n",
    "# Define C2\n",
    "C2 = C4 + S_hat / (Pe**2 * exp(Pe*xi))\n",
    "\n",
    "# Define C1\n",
    "C1 = T1 - C2 * exp(Pe * z1)\n",
    "\n",
    "# Define C3\n",
    "C3 = T1 - C4 * exp(Pe * z1) + (S_hat / (Pe**2 * exp(Pe*xi))) * (exp(Pe * xi) - exp(Pe * z1)) - (S_hat / Pe) * xi"
   ]
  },
  {
   "cell_type": "code",
   "execution_count": 2,
   "id": "508daf6e",
   "metadata": {},
   "outputs": [],
   "source": [
    "T_func_1 = lambda z: (C1 + C2 * exp(Pe * z))\n",
    "T_func_2 = lambda z: (C3 + C4 * exp(Pe * z) + (S_hat / Pe) * z)"
   ]
  },
  {
   "cell_type": "code",
   "execution_count": 3,
   "id": "a638b810",
   "metadata": {},
   "outputs": [
    {
     "data": {
      "image/png": "[encoded data removed]",
      "text/latex": [
       "$\\displaystyle \\frac{- T_{1} + T_{2} + \\frac{S_{hat} \\left(\\xi - z_{2}\\right)}{Pe} - \\frac{S_{hat} \\left(e^{Pe \\xi} - e^{Pe z_{1}}\\right) e^{- Pe \\xi}}{Pe^{2}}}{- e^{Pe z_{1}} + e^{Pe z_{2}}}$"
      ],
      "text/plain": [
       "                                ⎛ Pe⋅ξ    Pe⋅z₁⎞  -Pe⋅ξ\n",
       "           Sₕₐₜ⋅(ξ - z₂)   Sₕₐₜ⋅⎝ℯ     - ℯ     ⎠⋅ℯ     \n",
       "-T₁ + T₂ + ───────────── - ────────────────────────────\n",
       "                Pe                       2             \n",
       "                                       Pe              \n",
       "───────────────────────────────────────────────────────\n",
       "                      Pe⋅z₁    Pe⋅z₂                   \n",
       "                   - ℯ      + ℯ                        "
      ]
     },
     "execution_count": 3,
     "metadata": {},
     "output_type": "execute_result"
    }
   ],
   "source": [
    "C4"
   ]
  },
  {
   "cell_type": "code",
   "execution_count": 4,
   "id": "df405859",
   "metadata": {},
   "outputs": [
    {
     "data": {
      "image/png": "[encoded data removed]",
      "text/latex": [
       "$\\displaystyle \\frac{- T_{1} + T_{2} + \\frac{S_{hat} \\left(\\xi - z_{2}\\right)}{Pe} - \\frac{S_{hat} \\left(e^{Pe \\xi} - e^{Pe z_{1}}\\right) e^{- Pe \\xi}}{Pe^{2}}}{- e^{Pe z_{1}} + e^{Pe z_{2}}} + \\frac{S_{hat} e^{- Pe \\xi}}{Pe^{2}}$"
      ],
      "text/plain": [
       "                                ⎛ Pe⋅ξ    Pe⋅z₁⎞  -Pe⋅ξ              \n",
       "           Sₕₐₜ⋅(ξ - z₂)   Sₕₐₜ⋅⎝ℯ     - ℯ     ⎠⋅ℯ                   \n",
       "-T₁ + T₂ + ───────────── - ────────────────────────────              \n",
       "                Pe                       2                      -Pe⋅ξ\n",
       "                                       Pe                 Sₕₐₜ⋅ℯ     \n",
       "─────────────────────────────────────────────────────── + ───────────\n",
       "                      Pe⋅z₁    Pe⋅z₂                            2    \n",
       "                   - ℯ      + ℯ                               Pe     "
      ]
     },
     "execution_count": 4,
     "metadata": {},
     "output_type": "execute_result"
    }
   ],
   "source": [
    "C2"
   ]
  },
  {
   "cell_type": "code",
   "execution_count": 5,
   "id": "1d365e4f",
   "metadata": {},
   "outputs": [
    {
     "data": {
      "image/png": "[encoded data removed]",
      "text/latex": [
       "$\\displaystyle T_{1} - \\left(\\frac{- T_{1} + T_{2} + \\frac{S_{hat} \\left(\\xi - z_{2}\\right)}{Pe} - \\frac{S_{hat} \\left(e^{Pe \\xi} - e^{Pe z_{1}}\\right) e^{- Pe \\xi}}{Pe^{2}}}{- e^{Pe z_{1}} + e^{Pe z_{2}}} + \\frac{S_{hat} e^{- Pe \\xi}}{Pe^{2}}\\right) e^{Pe z_{1}}$"
      ],
      "text/plain": [
       "     ⎛                                ⎛ Pe⋅ξ    Pe⋅z₁⎞  -Pe⋅ξ              ⎞   ↪\n",
       "     ⎜           Sₕₐₜ⋅(ξ - z₂)   Sₕₐₜ⋅⎝ℯ     - ℯ     ⎠⋅ℯ                   ⎟   ↪\n",
       "     ⎜-T₁ + T₂ + ───────────── - ────────────────────────────              ⎟   ↪\n",
       "     ⎜                Pe                       2                      -Pe⋅ξ⎟   ↪\n",
       "     ⎜                                       Pe                 Sₕₐₜ⋅ℯ     ⎟   ↪\n",
       "T₁ - ⎜─────────────────────────────────────────────────────── + ───────────⎟⋅ℯ ↪\n",
       "     ⎜                      Pe⋅z₁    Pe⋅z₂                            2    ⎟   ↪\n",
       "     ⎝                   - ℯ      + ℯ                               Pe     ⎠   ↪\n",
       "\n",
       "↪      \n",
       "↪      \n",
       "↪      \n",
       "↪      \n",
       "↪ Pe⋅z₁\n",
       "↪      \n",
       "↪      \n",
       "↪      "
      ]
     },
     "execution_count": 5,
     "metadata": {},
     "output_type": "execute_result"
    }
   ],
   "source": [
    "C1"
   ]
  },
  {
   "cell_type": "code",
   "execution_count": 6,
   "id": "36005a16",
   "metadata": {},
   "outputs": [
    {
     "data": {
      "image/png": "[encoded data removed]",
      "text/latex": [
       "$\\displaystyle T_{1} - \\frac{\\left(- T_{1} + T_{2} + \\frac{S_{hat} \\left(\\xi - z_{2}\\right)}{Pe} - \\frac{S_{hat} \\left(e^{Pe \\xi} - e^{Pe z_{1}}\\right) e^{- Pe \\xi}}{Pe^{2}}\\right) e^{Pe z_{1}}}{- e^{Pe z_{1}} + e^{Pe z_{2}}} - \\frac{S_{hat} \\xi}{Pe} + \\frac{S_{hat} \\left(e^{Pe \\xi} - e^{Pe z_{1}}\\right) e^{- Pe \\xi}}{Pe^{2}}$"
      ],
      "text/plain": [
       "     ⎛                                ⎛ Pe⋅ξ    Pe⋅z₁⎞  -Pe⋅ξ⎞                 ↪\n",
       "     ⎜           Sₕₐₜ⋅(ξ - z₂)   Sₕₐₜ⋅⎝ℯ     - ℯ     ⎠⋅ℯ     ⎟  Pe⋅z₁          ↪\n",
       "     ⎜-T₁ + T₂ + ───────────── - ────────────────────────────⎟⋅ℯ               ↪\n",
       "     ⎜                Pe                       2             ⎟                 ↪\n",
       "     ⎝                                       Pe              ⎠          Sₕₐₜ⋅ξ ↪\n",
       "T₁ - ──────────────────────────────────────────────────────────────── - ────── ↪\n",
       "                               Pe⋅z₁    Pe⋅z₂                             Pe   ↪\n",
       "                            - ℯ      + ℯ                                       ↪\n",
       "\n",
       "↪                                \n",
       "↪                                \n",
       "↪                                \n",
       "↪         ⎛ Pe⋅ξ    Pe⋅z₁⎞  -Pe⋅ξ\n",
       "↪    Sₕₐₜ⋅⎝ℯ     - ℯ     ⎠⋅ℯ     \n",
       "↪  + ────────────────────────────\n",
       "↪                  2             \n",
       "↪                Pe              "
      ]
     },
     "execution_count": 6,
     "metadata": {},
     "output_type": "execute_result"
    }
   ],
   "source": [
    "C3"
   ]
  },
  {
   "cell_type": "code",
   "execution_count": 7,
   "id": "f2cb5d2e",
   "metadata": {},
   "outputs": [
    {
     "data": {
      "image/png": "[encoded data removed]",
      "text/latex": [
       "$\\displaystyle T_{1}$"
      ],
      "text/plain": [
       "T₁"
      ]
     },
     "execution_count": 7,
     "metadata": {},
     "output_type": "execute_result"
    }
   ],
   "source": [
    "simplify(T_func_1(z1))"
   ]
  },
  {
   "cell_type": "code",
   "execution_count": 8,
   "id": "0c30f5a1",
   "metadata": {},
   "outputs": [
    {
     "data": {
      "image/png": "[encoded data removed]",
      "text/latex": [
       "$\\displaystyle T_{2}$"
      ],
      "text/plain": [
       "T₂"
      ]
     },
     "execution_count": 8,
     "metadata": {},
     "output_type": "execute_result"
    }
   ],
   "source": [
    "simplify(T_func_2(z2))"
   ]
  },
  {
   "cell_type": "code",
   "execution_count": 9,
   "id": "863f5824",
   "metadata": {},
   "outputs": [
    {
     "data": {
      "image/png": "[encoded data removed]",
      "text/latex": [
       "$\\displaystyle 0$"
      ],
      "text/plain": [
       "0"
      ]
     },
     "execution_count": 9,
     "metadata": {},
     "output_type": "execute_result"
    }
   ],
   "source": [
    "simplify(diff(T_func_1(z), z).subs(z, xi)) - simplify(diff(T_func_2(z), z).subs(z,xi))"
   ]
  },
  {
   "cell_type": "code",
   "execution_count": 10,
   "id": "e5cf9e09",
   "metadata": {},
   "outputs": [
    {
     "data": {
      "image/png": "[encoded data removed]",
      "text/latex": [
       "$\\displaystyle 0$"
      ],
      "text/plain": [
       "0"
      ]
     },
     "execution_count": 10,
     "metadata": {},
     "output_type": "execute_result"
    }
   ],
   "source": [
    "simplify((-diff(T_func_1(z), z).subs(z, xi) + Pe*T_func_1(z).subs(z, xi)) - (-diff(T_func_2(z), z).subs(z, xi) + Pe*T_func_2(z).subs(z, xi)))"
   ]
  }
 ],
 "metadata": {
  "kernelspec": {
   "display_name": ".venv",
   "language": "python",
   "name": "python3"
  },
  "language_info": {
   "codemirror_mode": {
    "name": "ipython",
    "version": 3
   },
   "file_extension": ".py",
   "mimetype": "text/x-python",
   "name": "python",
   "nbconvert_exporter": "python",
   "pygments_lexer": "ipython3",
   "version": "3.12.11"
  }
 },
 "nbformat": 4,
 "nbformat_minor": 5
}
